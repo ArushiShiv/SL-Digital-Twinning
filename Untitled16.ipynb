{
  "nbformat": 4,
  "nbformat_minor": 0,
  "metadata": {
    "colab": {
      "provenance": [],
      "authorship_tag": "ABX9TyNSjoOxY/MvPSvp1O6i8k7o",
      "include_colab_link": true
    },
    "kernelspec": {
      "name": "python3",
      "display_name": "Python 3"
    },
    "language_info": {
      "name": "python"
    }
  },
  "cells": [
    {
      "cell_type": "markdown",
      "metadata": {
        "id": "view-in-github",
        "colab_type": "text"
      },
      "source": [
        "<a href=\"https://colab.research.google.com/github/ArushiShiv/SL-Digital-Twinning/blob/main/Untitled16.ipynb\" target=\"_parent\"><img src=\"https://colab.research.google.com/assets/colab-badge.svg\" alt=\"Open In Colab\"/></a>"
      ]
    },
    {
      "cell_type": "code",
      "execution_count": 1,
      "metadata": {
        "id": "MUZDWjQt6LUP"
      },
      "outputs": [],
      "source": [
        "import pandas as pd\n",
        "import numpy as np\n",
        "import matplotlib.pyplot as plt\n",
        "import seaborn as sns\n",
        "\n",
        "from sklearn.model_selection import train_test_split\n",
        "from sklearn.preprocessing import LabelEncoder\n",
        "from sklearn.metrics import classification_report, confusion_matrix, roc_auc_score\n",
        "from sklearn.linear_model import LogisticRegression\n",
        "from sklearn.tree import DecisionTreeClassifier\n",
        "from sklearn.ensemble import RandomForestClassifier\n",
        "from sklearn.neural_network import MLPClassifier"
      ]
    },
    {
      "cell_type": "code",
      "source": [
        "# Load data\n",
        "df = pd.read_csv('/content/salesdaily.csv')"
      ],
      "metadata": {
        "id": "QIvD30Ra6Zx6"
      },
      "execution_count": 2,
      "outputs": []
    },
    {
      "cell_type": "code",
      "source": [
        "print(df.head(10))"
      ],
      "metadata": {
        "colab": {
          "base_uri": "https://localhost:8080/"
        },
        "id": "dzqk7CGV6gFM",
        "outputId": "fdeeb82c-03d0-495f-d36d-9249aa579281"
      },
      "execution_count": 3,
      "outputs": [
        {
          "output_type": "stream",
          "name": "stdout",
          "text": [
            "       datum  M01AB  M01AE  N02BA  N02BE  N05B  N05C   R03  R06  Year  Month  \\\n",
            "0   1/2/2014   0.00   3.67    3.4  32.40   7.0   0.0   0.0  2.0  2014      1   \n",
            "1   1/3/2014   8.00   4.00    4.4  50.60  16.0   0.0  20.0  4.0  2014      1   \n",
            "2   1/4/2014   2.00   1.00    6.5  61.85  10.0   0.0   9.0  1.0  2014      1   \n",
            "3   1/5/2014   4.00   3.00    7.0  41.10   8.0   0.0   3.0  0.0  2014      1   \n",
            "4   1/6/2014   5.00   1.00    4.5  21.70  16.0   2.0   6.0  2.0  2014      1   \n",
            "5   1/7/2014   0.00   0.00    0.0   0.00   0.0   0.0   0.0  0.0  2014      1   \n",
            "6   1/8/2014   5.33   3.00   10.5  26.40  19.0   1.0  10.0  0.0  2014      1   \n",
            "7   1/9/2014   7.00   1.68    8.0  25.00  16.0   0.0   3.0  2.0  2014      1   \n",
            "8  1/10/2014   5.00   2.00    2.0  53.30  15.0   2.0   0.0  2.0  2014      1   \n",
            "9  1/11/2014   5.00   4.34   10.4  52.30  14.0   0.0   1.0  0.2  2014      1   \n",
            "\n",
            "   Hour Weekday Name  \n",
            "0   248     Thursday  \n",
            "1   276       Friday  \n",
            "2   276     Saturday  \n",
            "3   276       Sunday  \n",
            "4   276       Monday  \n",
            "5   276      Tuesday  \n",
            "6   276    Wednesday  \n",
            "7   276     Thursday  \n",
            "8   276       Friday  \n",
            "9   276     Saturday  \n"
          ]
        }
      ]
    },
    {
      "cell_type": "code",
      "source": [
        "# Feature Engineering\n",
        "df['High_Sales'] = (df['N02BE'] > df['N02BE'].median()).astype(int)"
      ],
      "metadata": {
        "id": "gTE43xqK6p2p"
      },
      "execution_count": 4,
      "outputs": []
    },
    {
      "cell_type": "code",
      "source": [
        "# Encode Weekday\n",
        "df['Weekday_Code'] = LabelEncoder().fit_transform(df['Weekday Name'])"
      ],
      "metadata": {
        "id": "r3TsLm7E6tqI"
      },
      "execution_count": 5,
      "outputs": []
    },
    {
      "cell_type": "code",
      "source": [
        "# Features and target\n",
        "X = df[['M01AB', 'M01AE', 'N02BA', 'N05B', 'N05C', 'R03', 'R06', 'Year', 'Month', 'Hour', 'Weekday_Code']]\n",
        "y = df['High_Sales']"
      ],
      "metadata": {
        "id": "KImJbuCy6wEa"
      },
      "execution_count": 6,
      "outputs": []
    },
    {
      "cell_type": "code",
      "source": [
        "# Split\n",
        "X_train, X_test, y_train, y_test = train_test_split(X, y, test_size=0.3, random_state=42)"
      ],
      "metadata": {
        "id": "12mk6OMQ6yNy"
      },
      "execution_count": 7,
      "outputs": []
    },
    {
      "cell_type": "code",
      "source": [
        "# Models\n",
        "models = {\n",
        "    'Logistic Regression': LogisticRegression(max_iter=1000),\n",
        "    'Decision Tree': DecisionTreeClassifier(),\n",
        "    'Random Forest': RandomForestClassifier(),\n",
        "    'Neural Network': MLPClassifier(max_iter=500)\n",
        "}"
      ],
      "metadata": {
        "id": "_bSB-f7B61Ge"
      },
      "execution_count": 8,
      "outputs": []
    },
    {
      "cell_type": "code",
      "source": [
        "# Train and evaluate\n",
        "results = {}\n",
        "for name, model in models.items():\n",
        "    model.fit(X_train, y_train)\n",
        "    y_pred = model.predict(X_test)\n",
        "    y_prob = model.predict_proba(X_test)[:, 1] if hasattr(model, \"predict_proba\") else y_pred\n",
        "    results[name] = {\n",
        "        'Accuracy': model.score(X_test, y_test),\n",
        "        'ROC AUC': roc_auc_score(y_test, y_prob),\n",
        "        'Report': classification_report(y_test, y_pred, output_dict=True),\n",
        "        'Confusion Matrix': confusion_matrix(y_test, y_pred)\n",
        "    }"
      ],
      "metadata": {
        "colab": {
          "base_uri": "https://localhost:8080/"
        },
        "id": "WYyKuOOl63WP",
        "outputId": "1bb0fda9-1f6f-486b-a438-58151b779555"
      },
      "execution_count": 9,
      "outputs": [
        {
          "output_type": "stream",
          "name": "stderr",
          "text": [
            "/usr/local/lib/python3.11/dist-packages/sklearn/metrics/_classification.py:1565: UndefinedMetricWarning: Precision is ill-defined and being set to 0.0 in labels with no predicted samples. Use `zero_division` parameter to control this behavior.\n",
            "  _warn_prf(average, modifier, f\"{metric.capitalize()} is\", len(result))\n",
            "/usr/local/lib/python3.11/dist-packages/sklearn/metrics/_classification.py:1565: UndefinedMetricWarning: Precision is ill-defined and being set to 0.0 in labels with no predicted samples. Use `zero_division` parameter to control this behavior.\n",
            "  _warn_prf(average, modifier, f\"{metric.capitalize()} is\", len(result))\n",
            "/usr/local/lib/python3.11/dist-packages/sklearn/metrics/_classification.py:1565: UndefinedMetricWarning: Precision is ill-defined and being set to 0.0 in labels with no predicted samples. Use `zero_division` parameter to control this behavior.\n",
            "  _warn_prf(average, modifier, f\"{metric.capitalize()} is\", len(result))\n"
          ]
        }
      ]
    },
    {
      "cell_type": "code",
      "source": [
        "# Print summary\n",
        "for name, metrics in results.items():\n",
        "    print(f\"\\nModel: {name}\")\n",
        "    print(f\"Accuracy: {metrics['Accuracy']:.4f}\")\n",
        "    print(f\"ROC AUC: {metrics['ROC AUC']:.4f}\")\n",
        "    print(\"Classification Report:\")\n",
        "    print(pd.DataFrame(metrics['Report']).transpose())\n",
        "    print(\"Confusion Matrix:\")\n",
        "    print(metrics['Confusion Matrix'])"
      ],
      "metadata": {
        "colab": {
          "base_uri": "https://localhost:8080/"
        },
        "id": "QOdqYxnT7EQS",
        "outputId": "bb6e00ca-6b92-4231-b87b-b66096107993"
      },
      "execution_count": 10,
      "outputs": [
        {
          "output_type": "stream",
          "name": "stdout",
          "text": [
            "\n",
            "Model: Logistic Regression\n",
            "Accuracy: 0.6155\n",
            "ROC AUC: 0.6596\n",
            "Classification Report:\n",
            "              precision    recall  f1-score     support\n",
            "0              0.592262  0.652459  0.620905  305.000000\n",
            "1              0.641892  0.581040  0.609952  327.000000\n",
            "accuracy       0.615506  0.615506  0.615506    0.615506\n",
            "macro avg      0.617077  0.616749  0.615428  632.000000\n",
            "weighted avg   0.617941  0.615506  0.615238  632.000000\n",
            "Confusion Matrix:\n",
            "[[199 106]\n",
            " [137 190]]\n",
            "\n",
            "Model: Decision Tree\n",
            "Accuracy: 0.6313\n",
            "ROC AUC: 0.6317\n",
            "Classification Report:\n",
            "              precision    recall  f1-score     support\n",
            "0              0.612500  0.642623  0.627200  305.000000\n",
            "1              0.650641  0.620795  0.635368  327.000000\n",
            "accuracy       0.631329  0.631329  0.631329    0.631329\n",
            "macro avg      0.631571  0.631709  0.631284  632.000000\n",
            "weighted avg   0.632234  0.631329  0.631426  632.000000\n",
            "Confusion Matrix:\n",
            "[[196 109]\n",
            " [124 203]]\n",
            "\n",
            "Model: Random Forest\n",
            "Accuracy: 0.7104\n",
            "ROC AUC: 0.7668\n",
            "Classification Report:\n",
            "              precision    recall  f1-score     support\n",
            "0              0.693038  0.718033  0.705314  305.000000\n",
            "1              0.727848  0.703364  0.715397  327.000000\n",
            "accuracy       0.710443  0.710443  0.710443    0.710443\n",
            "macro avg      0.710443  0.710698  0.710355  632.000000\n",
            "weighted avg   0.711049  0.710443  0.710531  632.000000\n",
            "Confusion Matrix:\n",
            "[[219  86]\n",
            " [ 97 230]]\n",
            "\n",
            "Model: Neural Network\n",
            "Accuracy: 0.5174\n",
            "ROC AUC: 0.6640\n",
            "Classification Report:\n",
            "              precision    recall  f1-score     support\n",
            "0              0.000000  0.000000  0.000000  305.000000\n",
            "1              0.517405  1.000000  0.681960  327.000000\n",
            "accuracy       0.517405  0.517405  0.517405    0.517405\n",
            "macro avg      0.258703  0.500000  0.340980  632.000000\n",
            "weighted avg   0.267708  0.517405  0.352850  632.000000\n",
            "Confusion Matrix:\n",
            "[[  0 305]\n",
            " [  0 327]]\n"
          ]
        }
      ]
    },
    {
      "cell_type": "code",
      "source": [
        "# Generate the confusion matrix\n",
        "cm = confusion_matrix(y_test, y_pred)\n",
        "\n",
        "# Plot it\n",
        "disp = ConfusionMatrixDisplay(confusion_matrix=cm, display_labels=[\"Low Sales\", \"High Sales\"])\n",
        "disp.plot(cmap='Blues')\n",
        "plt.title(\"Confusion Matrix\")\n",
        "plt.show()\n"
      ],
      "metadata": {
        "colab": {
          "base_uri": "https://localhost:8080/",
          "height": 472
        },
        "id": "rOo2xjlI7nb5",
        "outputId": "8ea01d75-da42-40e2-a983-ba5b4f2c6c17"
      },
      "execution_count": 12,
      "outputs": [
        {
          "output_type": "display_data",
          "data": {
            "text/plain": [
              "<Figure size 640x480 with 2 Axes>"
            ],
            "image/png": "[encoded data removed]"
          },
          "metadata": {}
        }
      ]
    }
  ]
}